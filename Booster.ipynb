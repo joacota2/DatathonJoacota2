{
 "cells": [
  {
   "cell_type": "code",
   "execution_count": 8,
   "metadata": {},
   "outputs": [],
   "source": [
    "import pandas as pd\n",
    "import numpy as np\n",
    "import matplotlib.pyplot as plt\n",
    "import seaborn as sns\n",
    "from sklearn.preprocessing import StandardScaler\n",
    "from sklearn.model_selection import train_test_split\n",
    "from sklearn.ensemble import BaggingClassifier\n",
    "from sklearn.tree import DecisionTreeClassifier\n",
    "from sklearn.svm import SVC\n",
    "from sklearn.neighbors import KNeighborsClassifier\n",
    "from sklearn import metrics\n",
    "from sklearn.metrics import accuracy_score, precision_score, recall_score, f1_score\n",
    "from sklearn.metrics import confusion_matrix, ConfusionMatrixDisplay\n",
    "import xgboost as xgb\n",
    "sns.set()"
   ]
  },
  {
   "cell_type": "code",
   "execution_count": 9,
   "metadata": {},
   "outputs": [],
   "source": [
    "data_train = pd.read_excel(\"E-Commerce_train.xlsx\")\n",
    "data_test = pd.read_excel(\"E-Commerce_test.xlsx\")\n",
    "data_train.drop(columns=\"ID\", inplace=True)\n",
    "data_train[\"Warehouse_block\"].replace({\"A\":0, \"B\":1, \"C\":2,\"D\":3, \"F\": 4}, inplace=True)\n",
    "data_train[\"Mode_of_Shipment\"].replace({\"Flight\":0, \"Ship\":1, \"Road\":2},inplace= True)\n",
    "data_train[\"Product_importance\"].replace({\"low\":0, \"medium\":1,\"high\":2},inplace= True)\n",
    "data_train[\"Gender\"].replace({\"F\":0, \"M\":1},inplace= True)\n",
    "data_test[\"Warehouse_block\"].replace({\"A\":0, \"B\":1, \"C\":2,\"D\":3, \"F\": 4}, inplace=True)\n",
    "data_test[\"Mode_of_Shipment\"].replace({\"Flight\":0, \"Ship\":1, \"Road\":2},inplace= True)\n",
    "data_test[\"Product_importance\"].replace({\"low\":0, \"medium\":1,\"high\":2},inplace= True)\n",
    "data_test[\"Gender\"].replace({\"F\":0, \"M\":1},inplace= True)\n",
    "data_test.drop(columns='ID', inplace=True)\n",
    "X = data_train[[\"Warehouse_block\",\"Mode_of_Shipment\",\"Customer_care_calls\",\"Customer_rating\",\"Cost_of_the_Product\",\"Prior_purchases\",\"Product_importance\",\"Gender\",\"Discount_offered\",\"Weight_in_gms\"]]\n",
    "y = data_train[\"Reached.on.Time_Y.N\"]\n",
    "X_train, X_test, y_train, y_test = train_test_split(X, y, test_size=0.10, random_state=60, stratify=y)"
   ]
  },
  {
   "cell_type": "code",
   "execution_count": 10,
   "metadata": {},
   "outputs": [
    {
     "name": "stdout",
     "output_type": "stream",
     "text": [
      "Accuracy sobre conjunto de Train: 0.9592542289171503\n",
      "Precision sobre test 0.7623574144486692\n",
      "Accuracy sobre test 0.6711111111111111\n",
      "Recall sobre test [0.61890244 0.70104895]\n",
      "F1_Score  0.7304189435336976\n"
     ]
    }
   ],
   "source": [
    "clf_xgb = xgb.XGBClassifier(n_estimators=150, use_label_encoder= False, )\n",
    "clf_xgb.fit(X_train, y_train)\n",
    "y_train_pred = clf_xgb.predict(X_train)\n",
    "y_test_pred = clf_xgb.predict(X_test)\n",
    "print('Accuracy sobre conjunto de Train:', accuracy_score(y_train_pred,y_train))\n",
    "precision = precision_score(y_test, y_test_pred)\n",
    "print('Precision sobre test',precision)\n",
    "exactitud = accuracy_score(y_test, y_test_pred)\n",
    "print('Accuracy sobre test',exactitud)\n",
    "precision = recall_score(y_test, y_test_pred,average= None)\n",
    "print('Recall sobre test',precision)\n",
    "precision = f1_score(y_test, y_test_pred)\n",
    "print('F1_Score ', precision)"
   ]
  },
  {
   "cell_type": "code",
   "execution_count": 11,
   "metadata": {},
   "outputs": [
    {
     "data": {
      "image/png": "[encoded data removed]",
      "text/plain": [
       "<Figure size 640x480 with 2 Axes>"
      ]
     },
     "metadata": {},
     "output_type": "display_data"
    }
   ],
   "source": [
    "matrix = confusion_matrix(y_test, y_test_pred)\n",
    "cm_display = ConfusionMatrixDisplay(matrix)\n",
    "cm_display.plot()\n",
    "plt.show()"
   ]
  },
  {
   "cell_type": "code",
   "execution_count": 6,
   "metadata": {},
   "outputs": [],
   "source": [
    "predict_test=clf_xgb.predict(data_test)"
   ]
  },
  {
   "cell_type": "code",
   "execution_count": 26,
   "metadata": {},
   "outputs": [],
   "source": [
    "predict_test = pd.DataFrame(predict_test,columns=['pred'])\n",
    "predict_test = predict_test.to_csv('joacota2.csv', index= False)"
   ]
  }
 ],
 "metadata": {
  "kernelspec": {
   "display_name": "Python 3.9.13 64-bit (windows store)",
   "language": "python",
   "name": "python3"
  },
  "language_info": {
   "codemirror_mode": {
    "name": "ipython",
    "version": 3
   },
   "file_extension": ".py",
   "mimetype": "text/x-python",
   "name": "python",
   "nbconvert_exporter": "python",
   "pygments_lexer": "ipython3",
   "version": "3.9.13"
  },
  "orig_nbformat": 4,
  "vscode": {
   "interpreter": {
    "hash": "7565555a91d5378c349e9ce74cddf866d15006e20174b4689cd30d6c9a9925ee"
   }
  }
 },
 "nbformat": 4,
 "nbformat_minor": 2
}
