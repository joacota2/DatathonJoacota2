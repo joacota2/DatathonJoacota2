{
 "cells": [
  {
   "cell_type": "code",
   "execution_count": 1,
   "metadata": {},
   "outputs": [],
   "source": [
    "import pandas as pd\n",
    "import numpy as np\n",
    "import matplotlib.pyplot as plt\n",
    "import seaborn as sns\n",
    "from sklearn.preprocessing import StandardScaler\n",
    "from sklearn.model_selection import train_test_split\n",
    "from sklearn.ensemble import BaggingClassifier\n",
    "from sklearn.tree import DecisionTreeClassifier\n",
    "from sklearn.svm import SVC\n",
    "from sklearn.neighbors import KNeighborsClassifier\n",
    "from sklearn import metrics\n",
    "from sklearn.metrics import confusion_matrix, ConfusionMatrixDisplay\n",
    "from sklearn.ensemble import VotingClassifier\n",
    "from sklearn.metrics import accuracy_score, precision_score, recall_score, f1_score\n",
    "sns.set()"
   ]
  },
  {
   "cell_type": "code",
   "execution_count": 3,
   "metadata": {},
   "outputs": [],
   "source": [
    "data_train = pd.read_excel(\"E-Commerce_train.xlsx\")\n",
    "data_test = pd.read_excel(\"E-Commerce_test.xlsx\")\n",
    "data_train.drop(columns=\"ID\", inplace=True)\n",
    "data_train[\"Warehouse_block\"].replace({\"A\":0, \"B\":1, \"C\":2,\"D\":3, \"F\": 4}, inplace=True)\n",
    "data_train[\"Mode_of_Shipment\"].replace({\"Flight\":0, \"Ship\":1, \"Road\":2},inplace= True)\n",
    "data_train[\"Product_importance\"].replace({\"low\":0, \"medium\":1,\"high\":2},inplace= True)\n",
    "data_train[\"Gender\"].replace({\"F\":0, \"M\":1},inplace= True)\n",
    "data_test[\"Warehouse_block\"].replace({\"A\":0, \"B\":1, \"C\":2,\"D\":3, \"F\": 4}, inplace=True)\n",
    "data_test[\"Mode_of_Shipment\"].replace({\"Flight\":0, \"Ship\":1, \"Road\":2},inplace= True)\n",
    "data_test[\"Product_importance\"].replace({\"low\":0, \"medium\":1,\"high\":2},inplace= True)\n",
    "data_test[\"Gender\"].replace({\"F\":0, \"M\":1},inplace= True)\n",
    "data_test.drop(columns='ID', inplace=True)\n",
    "X = data_train[[\"Warehouse_block\",\"Mode_of_Shipment\",\"Customer_care_calls\",\"Customer_rating\",\"Cost_of_the_Product\",\"Prior_purchases\",\"Product_importance\",\"Gender\",\"Discount_offered\",\"Weight_in_gms\"]]\n",
    "y = data_train[\"Reached.on.Time_Y.N\"]\n",
    "X_train, X_test, y_train, y_test = train_test_split(X, y, test_size=0.20, random_state=60, stratify=y)"
   ]
  },
  {
   "cell_type": "code",
   "execution_count": 6,
   "metadata": {},
   "outputs": [
    {
     "name": "stdout",
     "output_type": "stream",
     "text": [
      "Hard Voting\n",
      "Accuracy sobre conjunto de Train: 0.728712321155716\n",
      "Precision sobre test 0.831096196868009\n",
      "Accuracy sobre test 0.6933333333333334\n",
      "Recall sobre test [0.76981707 0.64947552]\n",
      "F1_Score  0.7291462217860648\n",
      "Accuracy sobre KNeighborsClassifier 0.6872222222222222\n",
      "Accuracy sobre SVC 0.6916666666666667\n",
      "Accuracy sobre DecisionTreeClassifier 0.7027777777777777\n",
      "Accuracy sobre VotingClassifier 0.6922222222222222\n"
     ]
    }
   ],
   "source": [
    "#MODELO1\n",
    "tree = DecisionTreeClassifier(max_depth=8,criterion='entropy',min_samples_leaf=3, min_samples_split=5)\n",
    "#MODELO2\n",
    "knn = KNeighborsClassifier(algorithm='auto', leaf_size=7, n_neighbors=18, weights='uniform')\n",
    "#MODELO3\n",
    "svm = SVC()\n",
    "estimator_list = [\n",
    "    ('knn',knn),\n",
    "    ('svm', svm),\n",
    "    ('tree',tree)]\n",
    "\n",
    "voting_clf_hard = VotingClassifier(estimators=estimator_list, \n",
    "                                   voting='hard')\n",
    "voting_clf_hard.fit(X_train,y_train)\n",
    "y_train_pred = voting_clf_hard.predict(X_train)\n",
    "y_test_pred = voting_clf_hard.predict(X_test)\n",
    "print('Hard Voting')\n",
    "print('Accuracy sobre conjunto de Train:', accuracy_score(y_train_pred,y_train))\n",
    "precision = precision_score(y_test, y_test_pred)\n",
    "print('Precision sobre test',precision)\n",
    "exactitud = accuracy_score(y_test, y_test_pred)\n",
    "print('Accuracy sobre test',exactitud)\n",
    "precision = recall_score(y_test, y_test_pred, average=None)\n",
    "print('Recall sobre test',precision)\n",
    "precision = f1_score(y_test, y_test_pred)\n",
    "print('F1_Score ', precision)\n",
    "for clf_hard in (knn, svm, tree, voting_clf_hard):\n",
    "    \n",
    "    clf_hard.fit(X_train, y_train)\n",
    "    y_pred = clf_hard.predict(X_test)\n",
    "    \n",
    "    print('Accuracy sobre',clf_hard.__class__.__name__, accuracy_score(y_test, y_pred))"
   ]
  },
  {
   "cell_type": "code",
   "execution_count": 5,
   "metadata": {},
   "outputs": [
    {
     "data": {
      "image/png": "[encoded data removed]",
      "text/plain": [
       "<Figure size 640x480 with 2 Axes>"
      ]
     },
     "metadata": {},
     "output_type": "display_data"
    }
   ],
   "source": [
    "matrix = confusion_matrix(y_train, y_train_pred)\n",
    "ax = sns.heatmap(matrix/np.sum(matrix), annot=True, \n",
    "            fmt='.2%', cmap='inferno')\n",
    "ax.set_xlabel('\\nPredicted Values')\n",
    "ax.set_ylabel('Actual Values ');"
   ]
  },
  {
   "cell_type": "code",
   "execution_count": 9,
   "metadata": {},
   "outputs": [
    {
     "name": "stdout",
     "output_type": "stream",
     "text": [
      "Soft Voting\n",
      "Accuracy sobre conjunto de Train: 0.7251007084317266\n",
      "Precision sobre test 0.7828185328185329\n",
      "Accuracy sobre test 0.69\n",
      "Recall sobre test [0.6570122  0.70891608]\n",
      "F1_Score  0.7440366972477065\n",
      "Accuracy sobre KNeighborsClassifier 0.6872222222222222\n",
      "Accuracy sobre SVC 0.6916666666666667\n",
      "Accuracy sobre DecisionTreeClassifier 0.7016666666666667\n",
      "Accuracy sobre VotingClassifier 0.6888888888888889\n"
     ]
    }
   ],
   "source": [
    "#MODELO1\n",
    "tree = DecisionTreeClassifier(max_depth=8,criterion='entropy',min_samples_leaf=3, min_samples_split=5)\n",
    "#MODELO2\n",
    "knn = KNeighborsClassifier(algorithm='auto', leaf_size=7, n_neighbors=18, weights='uniform')\n",
    "#MODELO3\n",
    "svm = SVC(probability=True)\n",
    "estimator_list = [\n",
    "    ('knn',knn),\n",
    "    ('svm', svm),\n",
    "    ('tree',tree)]\n",
    "\n",
    "voting_clf_soft = VotingClassifier(estimators=estimator_list,\n",
    "                                   voting='soft')\n",
    "voting_clf_soft.fit(X_train,y_train)\n",
    "y_train_pred = voting_clf_soft.predict(X_train)\n",
    "y_test_pred = voting_clf_soft.predict(X_test)\n",
    "print('Soft Voting')\n",
    "print('Accuracy sobre conjunto de Train:', accuracy_score(y_train_pred,y_train))\n",
    "precision = precision_score(y_test, y_test_pred)\n",
    "print('Precision sobre test',precision)\n",
    "exactitud = accuracy_score(y_test, y_test_pred)\n",
    "print('Accuracy sobre test',exactitud)\n",
    "precision = recall_score(y_test, y_test_pred,average=None)\n",
    "print('Recall sobre test',precision)\n",
    "precision = f1_score(y_test, y_test_pred)\n",
    "print('F1_Score ', precision)\n",
    "for clf_soft in (knn, svm, tree, voting_clf_soft):\n",
    "    \n",
    "    clf_soft.fit(X_train, y_train)\n",
    "    y_pred = clf_soft.predict(X_test)\n",
    "    \n",
    "    print('Accuracy sobre',clf_soft.__class__.__name__, accuracy_score(y_test, y_pred))"
   ]
  }
 ],
 "metadata": {
  "kernelspec": {
   "display_name": "Python 3.9.13 64-bit (microsoft store)",
   "language": "python",
   "name": "python3"
  },
  "language_info": {
   "codemirror_mode": {
    "name": "ipython",
    "version": 3
   },
   "file_extension": ".py",
   "mimetype": "text/x-python",
   "name": "python",
   "nbconvert_exporter": "python",
   "pygments_lexer": "ipython3",
   "version": "3.9.13"
  },
  "orig_nbformat": 4,
  "vscode": {
   "interpreter": {
    "hash": "7565555a91d5378c349e9ce74cddf866d15006e20174b4689cd30d6c9a9925ee"
   }
  }
 },
 "nbformat": 4,
 "nbformat_minor": 2
}
