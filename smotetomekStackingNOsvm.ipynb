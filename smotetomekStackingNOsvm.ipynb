{
 "cells": [
  {
   "cell_type": "code",
   "execution_count": 1,
   "metadata": {},
   "outputs": [],
   "source": [
    "import pandas as pd\n",
    "import numpy as np\n",
    "import matplotlib.pyplot as plt\n",
    "import seaborn as sns\n",
    "from sklearn.preprocessing import StandardScaler\n",
    "from sklearn.model_selection import train_test_split\n",
    "from sklearn.ensemble import BaggingClassifier\n",
    "from sklearn.tree import DecisionTreeClassifier\n",
    "from sklearn.svm import SVC\n",
    "from sklearn.neighbors import KNeighborsClassifier\n",
    "from sklearn.ensemble import StackingClassifier\n",
    "from sklearn.linear_model import LogisticRegression\n",
    "from sklearn import metrics\n",
    "from sklearn.metrics import ConfusionMatrixDisplay, confusion_matrix\n",
    "from sklearn.metrics import accuracy_score, precision_score, recall_score,  f1_score\n",
    "from imblearn.under_sampling import NearMiss\n",
    "from imblearn.combine import SMOTETomek\n",
    "from collections import Counter\n",
    "sns.set()"
   ]
  },
  {
   "cell_type": "code",
   "execution_count": 32,
   "metadata": {},
   "outputs": [
    {
     "name": "stdout",
     "output_type": "stream",
     "text": [
      "Distribution before resampling Counter({1: 4003, 0: 2296})\n",
      "Distribution after resampling Counter({1: 3543, 0: 2542})\n"
     ]
    }
   ],
   "source": [
    "data_train = pd.read_excel(\"E-Commerce_train.xlsx\")\n",
    "data_test = pd.read_excel(\"E-Commerce_test.xlsx\")\n",
    "data_train[\"Warehouse_block\"].replace({\"A\":0, \"B\":1, \"C\":2,\"D\":3, \"F\": 4}, inplace=True)\n",
    "data_train[\"Mode_of_Shipment\"].replace({\"Flight\":0, \"Ship\":1, \"Road\":2},inplace= True)\n",
    "data_train[\"Product_importance\"].replace({\"low\":0, \"medium\":1,\"high\":2},inplace= True)\n",
    "data_train[\"Gender\"].replace({\"F\":0, \"M\":1},inplace= True)\n",
    "data_test[\"Warehouse_block\"].replace({\"A\":0, \"B\":1, \"C\":2,\"D\":3, \"F\": 4}, inplace=True)\n",
    "data_test[\"Mode_of_Shipment\"].replace({\"Flight\":0, \"Ship\":1, \"Road\":2},inplace= True)\n",
    "data_test[\"Product_importance\"].replace({\"low\":0, \"medium\":1,\"high\":2},inplace= True)\n",
    "data_test[\"Gender\"].replace({\"F\":0, \"M\":1},inplace= True)\n",
    "data_test=data_test[[\"ID\",\"Mode_of_Shipment\",\"Customer_care_calls\",\"Cost_of_the_Product\",\"Prior_purchases\",\"Discount_offered\",\"Weight_in_gms\"]]\n",
    "X = data_train[[\"ID\",\"Mode_of_Shipment\",\"Customer_care_calls\",\"Cost_of_the_Product\",\"Prior_purchases\",\"Discount_offered\",\"Weight_in_gms\"]]\n",
    "y = data_train[\"Reached.on.Time_Y.N\"]\n",
    "X_train, X_test, y_train, y_test = train_test_split(X, y, test_size=0.30, stratify=y)\n",
    "os_us = SMOTETomek(sampling_strategy=0.75)\n",
    "X_train_res, y_train_res = os_us.fit_resample(X_train, y_train)\n",
    "print (\"Distribution before resampling {}\".format(Counter(y_train)))\n",
    "print (\"Distribution after resampling {}\".format(Counter(y_train_res)))\n",
    "X_train , y_train = X_train_res , y_train_res"
   ]
  },
  {
   "cell_type": "code",
   "execution_count": 33,
   "metadata": {},
   "outputs": [
    {
     "name": "stdout",
     "output_type": "stream",
     "text": [
      "Accuracy sobre conjunto de Train: 0.684798685291701\n",
      "Precision sobre test 0.6552006552006552\n",
      "Accuracy sobre test 0.6451851851851852\n",
      "Recall sobre test [0.14430894 0.93240093]\n",
      "F1_Score  0.7696007696007695\n"
     ]
    }
   ],
   "source": [
    "#MODELO1\n",
    "tree = DecisionTreeClassifier(max_depth=8,criterion='entropy',min_samples_leaf=3, min_samples_split=5)\n",
    "#MODELO2\n",
    "knn = KNeighborsClassifier(algorithm='auto', leaf_size=7, n_neighbors=18, weights='uniform')\n",
    "#MODELO3\n",
    "svm = SVC()\n",
    "estimator_list = [\n",
    "    ('knn',knn),\n",
    "    ('tree',tree)]\n",
    "\n",
    "stack_model = StackingClassifier(\n",
    "    estimator_list, final_estimator = LogisticRegression(class_weight={ 0:0.25, 1:0.75 })\n",
    ")\n",
    "stack_model.fit(X_train,y_train)\n",
    "y_train_pred = stack_model.predict(X_train)\n",
    "y_test_pred = stack_model.predict(X_test)\n",
    "print('Accuracy sobre conjunto de Train:', accuracy_score(y_train_pred,y_train))\n",
    "precision = precision_score(y_test, y_test_pred)\n",
    "print('Precision sobre test',precision)\n",
    "exactitud = accuracy_score(y_test, y_test_pred)\n",
    "print('Accuracy sobre test',exactitud)\n",
    "precision = recall_score(y_test, y_test_pred, average=None)\n",
    "print('Recall sobre test',precision)\n",
    "precision = f1_score(y_test, y_test_pred)\n",
    "print('F1_Score ', precision)"
   ]
  },
  {
   "cell_type": "code",
   "execution_count": 34,
   "metadata": {},
   "outputs": [
    {
     "data": {
      "image/png": "[encoded data removed]",
      "text/plain": [
       "<Figure size 640x480 with 2 Axes>"
      ]
     },
     "metadata": {},
     "output_type": "display_data"
    }
   ],
   "source": [
    "matrix = confusion_matrix(y_test, y_test_pred)\n",
    "cm_display = ConfusionMatrixDisplay(matrix)\n",
    "cm_display.plot()\n",
    "plt.show()"
   ]
  },
  {
   "cell_type": "code",
   "execution_count": 29,
   "metadata": {},
   "outputs": [],
   "source": [
    "data_test_pred=stack_model.predict(data_test)"
   ]
  },
  {
   "cell_type": "code",
   "execution_count": 30,
   "metadata": {},
   "outputs": [],
   "source": [
    "data_test_pred = pd.DataFrame(data_test_pred,columns=['pred'])\n",
    "data_test_pred = data_test_pred.to_csv('joacota2.csv', index= False)"
   ]
  }
 ],
 "metadata": {
  "kernelspec": {
   "display_name": "Python 3.9.13 64-bit (windows store)",
   "language": "python",
   "name": "python3"
  },
  "language_info": {
   "codemirror_mode": {
    "name": "ipython",
    "version": 3
   },
   "file_extension": ".py",
   "mimetype": "text/x-python",
   "name": "python",
   "nbconvert_exporter": "python",
   "pygments_lexer": "ipython3",
   "version": "3.9.13"
  },
  "orig_nbformat": 4,
  "vscode": {
   "interpreter": {
    "hash": "7565555a91d5378c349e9ce74cddf866d15006e20174b4689cd30d6c9a9925ee"
   }
  }
 },
 "nbformat": 4,
 "nbformat_minor": 2
}
